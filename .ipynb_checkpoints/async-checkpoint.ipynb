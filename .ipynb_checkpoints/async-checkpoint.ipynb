{
 "cells": [
  {
   "cell_type": "markdown",
   "metadata": {},
   "source": [
    "## 异步async"
   ]
  },
  {
   "cell_type": "code",
   "execution_count": 2,
   "metadata": {},
   "outputs": [
    {
     "name": "stdout",
     "output_type": "stream",
     "text": [
      "3\n",
      "2\n",
      "1\n",
      "start\n"
     ]
    }
   ],
   "source": [
    "import asyncio\n",
    "\n",
    "class ThreeTwoOne:\n",
    "    async def begin(self):\n",
    "        print(3)\n",
    "        await asyncio.sleep(1)\n",
    "        print(2)\n",
    "        await asyncio.sleep(1)\n",
    "        print(1)        \n",
    "        await asyncio.sleep(1)\n",
    "        return\n",
    "\n",
    "async def game():\n",
    "    t = ThreeTwoOne()\n",
    "    await t.begin()\n",
    "    print('start')\n",
    "    \n",
    "    \n",
    "await game()\n",
    "    \n",
    "    "
   ]
  },
  {
   "cell_type": "code",
   "execution_count": 1,
   "metadata": {},
   "outputs": [
    {
     "name": "stdout",
     "output_type": "stream",
     "text": [
      "3\n",
      "2\n",
      "1\n",
      "start\n"
     ]
    }
   ],
   "source": [
    "import asyncio\n",
    "import time\n",
    "\n",
    "class ThreeTwoOne2:\n",
    "    async def begin(self):\n",
    "        print(3)\n",
    "        time.sleep(1)\n",
    "        print(2)\n",
    "        time.sleep(1)\n",
    "        print(1)        \n",
    "        time.sleep(1)\n",
    "        return\n",
    "\n",
    "async def game2():\n",
    "    t = ThreeTwoOne2()\n",
    "    await t.begin()\n",
    "    print('start')\n",
    "    \n",
    "    \n",
    "await game2()"
   ]
  },
  {
   "cell_type": "markdown",
   "metadata": {},
   "source": [
    "- 这里需要注意的是：同步阻塞的接口不能使用在协程里面。因为协程是单线程的，只要有一个地方阻塞了，那么所有的协程都需要等待阻塞结束之后才可以向下运行，于是在协程函数中等待一定不能用time.sleep() 如果用time.sleep()就失去了协程的意义了（即程序运行的时间将会是每个协程数乘以time.sleep()的时间数。）同时用asyncio.sleep() 之前需要加上 await\n"
   ]
  },
  {
   "cell_type": "markdown",
   "metadata": {},
   "source": [
    "## curio 和 trio\n",
    "\n",
    "asyncio作为python的标准库，自然受到很多青睐，但它有时候还是显得太重量了，尤其是提供了许多复杂的轮子和协议，不便于使用。\n",
    "\n",
    "你可以理解为，asyncio是使用async/await语法开发的协程库，而不是有asyncio才能用async/await，除了asyncio之外，curio和trio是更加轻量级的替代物，而且也更容易使用。\n"
   ]
  }
 ],
 "metadata": {
  "kernelspec": {
   "display_name": "Python 3",
   "language": "python",
   "name": "python3"
  },
  "language_info": {
   "codemirror_mode": {
    "name": "ipython",
    "version": 3
   },
   "file_extension": ".py",
   "mimetype": "text/x-python",
   "name": "python",
   "nbconvert_exporter": "python",
   "pygments_lexer": "ipython3",
   "version": "3.7.4"
  },
  "toc": {
   "base_numbering": 1,
   "nav_menu": {},
   "number_sections": true,
   "sideBar": true,
   "skip_h1_title": false,
   "title_cell": "Table of Contents",
   "title_sidebar": "Contents",
   "toc_cell": false,
   "toc_position": {},
   "toc_section_display": true,
   "toc_window_display": false
  }
 },
 "nbformat": 4,
 "nbformat_minor": 2
}
